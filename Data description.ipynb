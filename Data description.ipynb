{
 "cells": [
  {
   "cell_type": "markdown",
   "metadata": {},
   "source": [
    "# Data description:\n",
    "\n",
    "In first place I'll be using a database created by myself using information from different Uruguayan public organizations, specifically I.N.E (Instituto Nacional de Estadistica), A.N.V (Agencia Nacional de Viviendas) and Ministerio del Interior, in order to have information about common property price per squared meter, population density and robbery reports disaggregated by neighborhood in Montevideo, Uruguay. This information will be used for discard some problematic neighborhoods where any investor would like to install a Convenience Store.\n",
    "\n",
    "That's how the database looks like:\n",
    "\n",
    "<img src=\"Base0.png\">\n",
    "\n",
    "* 'neighborhood' contains the names of all 62 neighborhoods of Montevideo, Uruguay.\n",
    "\n",
    "* 'hct_price' stand for \"common property\" squared meter price's mean (2009) , in indexed units. It's used as a purchasing power indicator.\n",
    "\n",
    "* 'burg_freq' stands for robbery frequency registered in 2018. This will be used as a criminality indicator.\n",
    "\n",
    "* 'tot_dens' stands for population density per squared hectare, and is used as another indicator for the store establishment.\n",
    "\n",
    "The criteria for decide which are the best neighborhoods consists in create a Price per Square Meter - Robbery Reports ratio. Thus, I will select those neighborhoods where this ratio is higher, combined with those where population density is also higher. The next database shows the result:\n",
    "\n",
    "<img src=\"top5.PNG\">\n",
    "\n",
    "'Latitud' and 'Longitud' columns contains coordinates for each neighborhood, extracted with a specific code shown in Jupyter Notebook. \n",
    "\n",
    "In second place, a database with the ten most common venues in each one of the best neighborhoods selected is created. That's how the database looks like:\n",
    "\n",
    "<img src=\"Capture.PNG\"> \n",
    "\n",
    "This will be useful for k-means clustering. With this tool I'll be able to understand a bit more about the intern characteristics of each zone, and thus, decide which one is the most suitable for a convenience store. The factor that will determine this decision is the venue's frequency: I'll select those neighborhoods where the most frequent venue is related in some way with convenience stores' target public (e.g. schools, sport clubs, churches). \n",
    "\n",
    "Lastly, a map will be displayed with the best zone found, the venues related with convenience stores' target public inside this zone and the convenience stores already installed here. With this information, I'll get a relatively specific area for the convenience store installation. Note that the final result does not consist in giving a specific coordinate for the installation, this methodology just finds the best area.\n",
    "\n",
    "The .JSON file used for print population density per neighborhood with a choropleth map was found on a github repository, and it was modified manually through the different project stages. (Link: https://raw.githubusercontent.com/vierja/geojson_montevideo/master/barrios.geojson)."
   ]
  },
  {
   "cell_type": "code",
   "execution_count": null,
   "metadata": {},
   "outputs": [],
   "source": []
  }
 ],
 "metadata": {
  "kernelspec": {
   "display_name": "Python",
   "language": "python",
   "name": "conda-env-python-py"
  },
  "language_info": {
   "codemirror_mode": {
    "name": "ipython",
    "version": 3
   },
   "file_extension": ".py",
   "mimetype": "text/x-python",
   "name": "python",
   "nbconvert_exporter": "python",
   "pygments_lexer": "ipython3",
   "version": "3.6.7"
  }
 },
 "nbformat": 4,
 "nbformat_minor": 4
}
